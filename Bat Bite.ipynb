{
 "cells": [
  {
   "cell_type": "markdown",
   "metadata": {},
   "source": [
    "# PREDICTING BITE FORCE FROM BAT MORPHOMETRICS\n",
    "## XGBoost Regressor vs Linear Regression\n"
   ]
  },
  {
   "cell_type": "markdown",
   "metadata": {},
   "source": [
    "### Import Packages and Read In Data"
   ]
  },
  {
   "cell_type": "code",
   "execution_count": 1,
   "metadata": {},
   "outputs": [],
   "source": [
    "import numpy as np \n",
    "import pandas as pd \n",
    "from matplotlib import pyplot as plt\n",
    "import seaborn as sns\n",
    "import xgboost as xgb\n",
    "\n",
    "from sklearn.model_selection import train_test_split\n",
    "from sklearn.linear_model import LinearRegression\n",
    "from sklearn import metrics\n",
    "from sklearn.metrics import mean_absolute_error\n",
    "from sklearn.metrics import mean_squared_error as MSE "
   ]
  },
  {
   "cell_type": "code",
   "execution_count": 2,
   "metadata": {},
   "outputs": [],
   "source": [
    "# Read file\n",
    "bat_df= pd.read_csv(\"Bat_bite.csv\")"
   ]
  },
  {
   "cell_type": "markdown",
   "metadata": {},
   "source": [
    "### Explore Data"
   ]
  },
  {
   "cell_type": "code",
   "execution_count": 3,
   "metadata": {
    "scrolled": true
   },
   "outputs": [
    {
     "name": "stdout",
     "output_type": "stream",
     "text": [
      "<class 'pandas.core.frame.DataFrame'>\n",
      "RangeIndex: 789 entries, 0 to 788\n",
      "Data columns (total 22 columns):\n",
      " #   Column        Non-Null Count  Dtype  \n",
      "---  ------        --------------  -----  \n",
      " 0   Date          789 non-null    object \n",
      " 1   Band No.      781 non-null    object \n",
      " 2   Species Name  789 non-null    object \n",
      " 3   Family        789 non-null    object \n",
      " 4   Sex           789 non-null    object \n",
      " 5   Age           789 non-null    object \n",
      " 6   Rep           364 non-null    object \n",
      " 7   FA            789 non-null    float64\n",
      " 8   Weight        789 non-null    float64\n",
      " 9   Head Height   789 non-null    float64\n",
      " 10  Head Length   789 non-null    float64\n",
      " 11  Head Width    789 non-null    float64\n",
      " 12  CM3           788 non-null    float64\n",
      " 13  pl dist       789 non-null    float64\n",
      " 14  1             789 non-null    float64\n",
      " 15  2             789 non-null    float64\n",
      " 16  3             789 non-null    float64\n",
      " 17  4             788 non-null    float64\n",
      " 18  5             786 non-null    float64\n",
      " 19  6             785 non-null    float64\n",
      " 20  MaxBF         789 non-null    float64\n",
      " 21  MaxBF in N    789 non-null    float64\n",
      "dtypes: float64(15), object(7)\n",
      "memory usage: 135.7+ KB\n"
     ]
    }
   ],
   "source": [
    "#Checking file\n",
    "bat_df.head()\n",
    "bat_df.info()"
   ]
  },
  {
   "cell_type": "code",
   "execution_count": 4,
   "metadata": {},
   "outputs": [
    {
     "data": {
      "text/html": [
       "<div>\n",
       "<style scoped>\n",
       "    .dataframe tbody tr th:only-of-type {\n",
       "        vertical-align: middle;\n",
       "    }\n",
       "\n",
       "    .dataframe tbody tr th {\n",
       "        vertical-align: top;\n",
       "    }\n",
       "\n",
       "    .dataframe thead th {\n",
       "        text-align: right;\n",
       "    }\n",
       "</style>\n",
       "<table border=\"1\" class=\"dataframe\">\n",
       "  <thead>\n",
       "    <tr style=\"text-align: right;\">\n",
       "      <th></th>\n",
       "      <th>FA</th>\n",
       "      <th>Weight</th>\n",
       "      <th>Head Height</th>\n",
       "      <th>Head Length</th>\n",
       "      <th>Head Width</th>\n",
       "      <th>CM3</th>\n",
       "      <th>pl dist</th>\n",
       "      <th>1</th>\n",
       "      <th>2</th>\n",
       "      <th>3</th>\n",
       "      <th>4</th>\n",
       "      <th>5</th>\n",
       "      <th>6</th>\n",
       "      <th>MaxBF</th>\n",
       "      <th>MaxBF in N</th>\n",
       "    </tr>\n",
       "  </thead>\n",
       "  <tbody>\n",
       "    <tr>\n",
       "      <th>count</th>\n",
       "      <td>789.000000</td>\n",
       "      <td>789.000000</td>\n",
       "      <td>789.000000</td>\n",
       "      <td>789.000000</td>\n",
       "      <td>789.000000</td>\n",
       "      <td>788.000000</td>\n",
       "      <td>789.000000</td>\n",
       "      <td>789.000000</td>\n",
       "      <td>789.000000</td>\n",
       "      <td>789.000000</td>\n",
       "      <td>788.000000</td>\n",
       "      <td>786.000000</td>\n",
       "      <td>785.000000</td>\n",
       "      <td>789.000000</td>\n",
       "      <td>789.000000</td>\n",
       "    </tr>\n",
       "    <tr>\n",
       "      <th>mean</th>\n",
       "      <td>47.325729</td>\n",
       "      <td>14.812966</td>\n",
       "      <td>11.074246</td>\n",
       "      <td>21.153105</td>\n",
       "      <td>12.474043</td>\n",
       "      <td>7.935470</td>\n",
       "      <td>3.589987</td>\n",
       "      <td>56.647909</td>\n",
       "      <td>55.793916</td>\n",
       "      <td>55.825349</td>\n",
       "      <td>56.081840</td>\n",
       "      <td>55.942366</td>\n",
       "      <td>56.467134</td>\n",
       "      <td>61.847022</td>\n",
       "      <td>6.208390</td>\n",
       "    </tr>\n",
       "    <tr>\n",
       "      <th>std</th>\n",
       "      <td>14.873248</td>\n",
       "      <td>17.981486</td>\n",
       "      <td>3.283136</td>\n",
       "      <td>5.754363</td>\n",
       "      <td>3.909114</td>\n",
       "      <td>2.386556</td>\n",
       "      <td>1.024516</td>\n",
       "      <td>64.039896</td>\n",
       "      <td>62.225216</td>\n",
       "      <td>62.616316</td>\n",
       "      <td>62.774342</td>\n",
       "      <td>62.601386</td>\n",
       "      <td>63.410709</td>\n",
       "      <td>68.507928</td>\n",
       "      <td>6.883939</td>\n",
       "    </tr>\n",
       "    <tr>\n",
       "      <th>min</th>\n",
       "      <td>25.500000</td>\n",
       "      <td>2.250000</td>\n",
       "      <td>5.400000</td>\n",
       "      <td>11.000000</td>\n",
       "      <td>6.400000</td>\n",
       "      <td>4.600000</td>\n",
       "      <td>2.500000</td>\n",
       "      <td>4.500000</td>\n",
       "      <td>3.600000</td>\n",
       "      <td>4.800000</td>\n",
       "      <td>3.500000</td>\n",
       "      <td>4.500000</td>\n",
       "      <td>2.900000</td>\n",
       "      <td>5.500000</td>\n",
       "      <td>0.390000</td>\n",
       "    </tr>\n",
       "    <tr>\n",
       "      <th>25%</th>\n",
       "      <td>40.900000</td>\n",
       "      <td>7.000000</td>\n",
       "      <td>9.000000</td>\n",
       "      <td>17.500000</td>\n",
       "      <td>10.100000</td>\n",
       "      <td>6.300000</td>\n",
       "      <td>3.000000</td>\n",
       "      <td>20.400000</td>\n",
       "      <td>19.600000</td>\n",
       "      <td>19.400000</td>\n",
       "      <td>19.600000</td>\n",
       "      <td>19.625000</td>\n",
       "      <td>19.500000</td>\n",
       "      <td>22.300000</td>\n",
       "      <td>2.150000</td>\n",
       "    </tr>\n",
       "    <tr>\n",
       "      <th>50%</th>\n",
       "      <td>44.800000</td>\n",
       "      <td>9.250000</td>\n",
       "      <td>10.200000</td>\n",
       "      <td>19.800000</td>\n",
       "      <td>11.600000</td>\n",
       "      <td>7.450000</td>\n",
       "      <td>3.500000</td>\n",
       "      <td>37.100000</td>\n",
       "      <td>36.100000</td>\n",
       "      <td>36.000000</td>\n",
       "      <td>35.900000</td>\n",
       "      <td>36.700000</td>\n",
       "      <td>36.300000</td>\n",
       "      <td>40.400000</td>\n",
       "      <td>3.940000</td>\n",
       "    </tr>\n",
       "    <tr>\n",
       "      <th>75%</th>\n",
       "      <td>50.000000</td>\n",
       "      <td>14.500000</td>\n",
       "      <td>12.000000</td>\n",
       "      <td>23.800000</td>\n",
       "      <td>13.500000</td>\n",
       "      <td>9.000000</td>\n",
       "      <td>4.000000</td>\n",
       "      <td>57.500000</td>\n",
       "      <td>56.900000</td>\n",
       "      <td>54.900000</td>\n",
       "      <td>56.500000</td>\n",
       "      <td>56.300000</td>\n",
       "      <td>57.500000</td>\n",
       "      <td>62.500000</td>\n",
       "      <td>6.610000</td>\n",
       "    </tr>\n",
       "    <tr>\n",
       "      <th>max</th>\n",
       "      <td>88.600000</td>\n",
       "      <td>216.000000</td>\n",
       "      <td>30.000000</td>\n",
       "      <td>47.500000</td>\n",
       "      <td>35.500000</td>\n",
       "      <td>14.700000</td>\n",
       "      <td>6.500000</td>\n",
       "      <td>343.000000</td>\n",
       "      <td>316.000000</td>\n",
       "      <td>304.000000</td>\n",
       "      <td>324.000000</td>\n",
       "      <td>320.000000</td>\n",
       "      <td>328.000000</td>\n",
       "      <td>343.000000</td>\n",
       "      <td>33.970000</td>\n",
       "    </tr>\n",
       "  </tbody>\n",
       "</table>\n",
       "</div>"
      ],
      "text/plain": [
       "               FA      Weight  Head Height  Head Length  Head Width  \\\n",
       "count  789.000000  789.000000   789.000000   789.000000  789.000000   \n",
       "mean    47.325729   14.812966    11.074246    21.153105   12.474043   \n",
       "std     14.873248   17.981486     3.283136     5.754363    3.909114   \n",
       "min     25.500000    2.250000     5.400000    11.000000    6.400000   \n",
       "25%     40.900000    7.000000     9.000000    17.500000   10.100000   \n",
       "50%     44.800000    9.250000    10.200000    19.800000   11.600000   \n",
       "75%     50.000000   14.500000    12.000000    23.800000   13.500000   \n",
       "max     88.600000  216.000000    30.000000    47.500000   35.500000   \n",
       "\n",
       "              CM3     pl dist           1           2           3           4  \\\n",
       "count  788.000000  789.000000  789.000000  789.000000  789.000000  788.000000   \n",
       "mean     7.935470    3.589987   56.647909   55.793916   55.825349   56.081840   \n",
       "std      2.386556    1.024516   64.039896   62.225216   62.616316   62.774342   \n",
       "min      4.600000    2.500000    4.500000    3.600000    4.800000    3.500000   \n",
       "25%      6.300000    3.000000   20.400000   19.600000   19.400000   19.600000   \n",
       "50%      7.450000    3.500000   37.100000   36.100000   36.000000   35.900000   \n",
       "75%      9.000000    4.000000   57.500000   56.900000   54.900000   56.500000   \n",
       "max     14.700000    6.500000  343.000000  316.000000  304.000000  324.000000   \n",
       "\n",
       "                5           6       MaxBF  MaxBF in N   \n",
       "count  786.000000  785.000000  789.000000   789.000000  \n",
       "mean    55.942366   56.467134   61.847022     6.208390  \n",
       "std     62.601386   63.410709   68.507928     6.883939  \n",
       "min      4.500000    2.900000    5.500000     0.390000  \n",
       "25%     19.625000   19.500000   22.300000     2.150000  \n",
       "50%     36.700000   36.300000   40.400000     3.940000  \n",
       "75%     56.300000   57.500000   62.500000     6.610000  \n",
       "max    320.000000  328.000000  343.000000    33.970000  "
      ]
     },
     "execution_count": 4,
     "metadata": {},
     "output_type": "execute_result"
    }
   ],
   "source": [
    "# Describing features\n",
    "bat_df.describe()"
   ]
  },
  {
   "cell_type": "markdown",
   "metadata": {},
   "source": [
    "### Divide Data Into Features and Target"
   ]
  },
  {
   "cell_type": "markdown",
   "metadata": {},
   "source": [
    "Here we will only select the columns of morphometric data we are interested in. 'FA' is length of forearm. 'MaxBF in N ' is the maximum bite force per individual measured in Newtons."
   ]
  },
  {
   "cell_type": "code",
   "execution_count": 5,
   "metadata": {},
   "outputs": [
    {
     "data": {
      "text/html": [
       "<div>\n",
       "<style scoped>\n",
       "    .dataframe tbody tr th:only-of-type {\n",
       "        vertical-align: middle;\n",
       "    }\n",
       "\n",
       "    .dataframe tbody tr th {\n",
       "        vertical-align: top;\n",
       "    }\n",
       "\n",
       "    .dataframe thead th {\n",
       "        text-align: right;\n",
       "    }\n",
       "</style>\n",
       "<table border=\"1\" class=\"dataframe\">\n",
       "  <thead>\n",
       "    <tr style=\"text-align: right;\">\n",
       "      <th></th>\n",
       "      <th>FA</th>\n",
       "      <th>Weight</th>\n",
       "      <th>Head Height</th>\n",
       "      <th>Head Length</th>\n",
       "      <th>Head Width</th>\n",
       "    </tr>\n",
       "  </thead>\n",
       "  <tbody>\n",
       "    <tr>\n",
       "      <th>0</th>\n",
       "      <td>27.0</td>\n",
       "      <td>2.5</td>\n",
       "      <td>7.8</td>\n",
       "      <td>13.2</td>\n",
       "      <td>8.4</td>\n",
       "    </tr>\n",
       "    <tr>\n",
       "      <th>1</th>\n",
       "      <td>46.0</td>\n",
       "      <td>8.5</td>\n",
       "      <td>11.8</td>\n",
       "      <td>20.8</td>\n",
       "      <td>12.3</td>\n",
       "    </tr>\n",
       "    <tr>\n",
       "      <th>2</th>\n",
       "      <td>27.9</td>\n",
       "      <td>2.5</td>\n",
       "      <td>6.7</td>\n",
       "      <td>13.0</td>\n",
       "      <td>7.5</td>\n",
       "    </tr>\n",
       "    <tr>\n",
       "      <th>3</th>\n",
       "      <td>28.2</td>\n",
       "      <td>2.5</td>\n",
       "      <td>7.9</td>\n",
       "      <td>13.8</td>\n",
       "      <td>8.4</td>\n",
       "    </tr>\n",
       "    <tr>\n",
       "      <th>4</th>\n",
       "      <td>41.3</td>\n",
       "      <td>10.0</td>\n",
       "      <td>11.2</td>\n",
       "      <td>20.2</td>\n",
       "      <td>13.5</td>\n",
       "    </tr>\n",
       "  </tbody>\n",
       "</table>\n",
       "</div>"
      ],
      "text/plain": [
       "     FA  Weight  Head Height  Head Length  Head Width\n",
       "0  27.0     2.5          7.8         13.2         8.4\n",
       "1  46.0     8.5         11.8         20.8        12.3\n",
       "2  27.9     2.5          6.7         13.0         7.5\n",
       "3  28.2     2.5          7.9         13.8         8.4\n",
       "4  41.3    10.0         11.2         20.2        13.5"
      ]
     },
     "execution_count": 5,
     "metadata": {},
     "output_type": "execute_result"
    }
   ],
   "source": [
    "# Divide data as features and target\n",
    "X = bat_df[bat_df.columns[7:12]]\n",
    "y = bat_df['MaxBF in N ']\n",
    "\n",
    "#Check feature variables\n",
    "X.head()"
   ]
  },
  {
   "cell_type": "markdown",
   "metadata": {},
   "source": [
    "### EDA"
   ]
  },
  {
   "cell_type": "code",
   "execution_count": 6,
   "metadata": {},
   "outputs": [
    {
     "name": "stdout",
     "output_type": "stream",
     "text": [
      "Correlation With Bite Force\n",
      "FA             0.868461\n",
      "Head Length    0.840066\n",
      "Head Height    0.832934\n",
      "Head Width     0.824312\n",
      "Weight         0.719248\n",
      "dtype: float64\n"
     ]
    }
   ],
   "source": [
    "#Check correlation between features and target\n",
    "corr_values = X.corrwith(y)\n",
    "print(\"Correlation With Bite Force\")\n",
    "print(abs(corr_values).sort_values(ascending=False))"
   ]
  },
  {
   "cell_type": "code",
   "execution_count": 7,
   "metadata": {},
   "outputs": [
    {
     "data": {
      "image/png": "[encoded data removed]",
      "text/plain": [
       "<Figure size 720x432 with 1 Axes>"
      ]
     },
     "metadata": {
      "needs_background": "light"
     },
     "output_type": "display_data"
    }
   ],
   "source": [
    "#Plot correlations between features and target\n",
    "X.corrwith(y).plot(kind='bar',\n",
    "                           grid=True, \n",
    "                           figsize=(10, 6),\n",
    "                           title=\"Correlation With Bite Force\");"
   ]
  },
  {
   "cell_type": "code",
   "execution_count": 8,
   "metadata": {},
   "outputs": [
    {
     "data": {
      "image/png": "[encoded data removed]",
      "text/plain": [
       "<Figure size 864x432 with 2 Axes>"
      ]
     },
     "metadata": {
      "needs_background": "light"
     },
     "output_type": "display_data"
    }
   ],
   "source": [
    "# Check for correlations between features\n",
    "corr =X.corr()\n",
    "fig, ax =plt.subplots(figsize =(12,6))\n",
    "ax  = sns.heatmap(corr,annot =True,fmt = \".2f\")\n",
    "ax.set_title('Correlation Between Features');"
   ]
  },
  {
   "cell_type": "markdown",
   "metadata": {},
   "source": [
    "### Split Into Train and Test"
   ]
  },
  {
   "cell_type": "code",
   "execution_count": 9,
   "metadata": {},
   "outputs": [],
   "source": [
    "# Create the training and test sets\n",
    "X_train, X_test, y_train, y_test = train_test_split(X, y, test_size=0.2, random_state=68)"
   ]
  },
  {
   "cell_type": "markdown",
   "metadata": {},
   "source": [
    "### Fit a XGBoost Tree Model"
   ]
  },
  {
   "cell_type": "code",
   "execution_count": 10,
   "metadata": {},
   "outputs": [
    {
     "name": "stdout",
     "output_type": "stream",
     "text": [
      "RMSE :  4.303472\n"
     ]
    }
   ],
   "source": [
    "# Instantiate the XGBRegressor: xg_reg\n",
    "xg_reg = xgb.XGBRegressor(objective ='reg:squarederror', colsample_bytree = 0.3, learning_rate = 0.1,\n",
    "                max_depth = 5, alpha = 10, n_estimators = 10)\n",
    "                  \n",
    "# Fit the regressor to the training set\n",
    "xg_reg.fit(X_train, y_train)\n",
    "\n",
    "# Predict the labels of the test set: preds\n",
    "pred = xg_reg.predict(X_test) \n",
    "\n",
    "# Compute the rmse: rmse\n",
    "rmse=np.sqrt(MSE(y_test, pred)) \n",
    "print(\"RMSE : % f\" %(rmse)) "
   ]
  },
  {
   "cell_type": "markdown",
   "metadata": {},
   "source": [
    " #### Convert  Dataset Into Optimized Data Structure"
   ]
  },
  {
   "cell_type": "code",
   "execution_count": 11,
   "metadata": {},
   "outputs": [],
   "source": [
    "data_dmatrix = xgb.DMatrix(data=X,label=y)"
   ]
  },
  {
   "cell_type": "markdown",
   "metadata": {},
   "source": [
    "#### Cross Validation"
   ]
  },
  {
   "cell_type": "code",
   "execution_count": 12,
   "metadata": {},
   "outputs": [
    {
     "name": "stdout",
     "output_type": "stream",
     "text": [
      "   train-rmse-mean  train-rmse-std  test-rmse-mean  test-rmse-std\n",
      "0         8.139658        0.144685        8.173138       0.292987\n",
      "1         7.424313        0.133874        7.460879       0.274299\n",
      "2         6.781267        0.120776        6.825219       0.263331\n",
      "3         6.212015        0.110067        6.260681       0.250388\n",
      "4         5.702325        0.097601        5.755303       0.241254\n",
      "\n",
      " Best test round and RMSE:  330    2.048239\n",
      "Name: test-rmse-mean, dtype: float64\n"
     ]
    }
   ],
   "source": [
    "params = {\"objective\":\"reg:squarederror\",'colsample_bytree': 0.3,'learning_rate': 0.1,\n",
    "                'max_depth': 5, 'alpha': 10}\n",
    "\n",
    "cv_results = xgb.cv(dtrain=data_dmatrix, params=params, nfold=3,\n",
    "                    num_boost_round=500,early_stopping_rounds=10,metrics=\"rmse\", as_pandas=True, seed=68)\n",
    "print(cv_results.head())\n",
    "print('\\n Best test round and RMSE: ',(cv_results[\"test-rmse-mean\"]).tail(1))"
   ]
  },
  {
   "cell_type": "markdown",
   "metadata": {},
   "source": [
    "#### Plotting Feature Importance"
   ]
  },
  {
   "cell_type": "code",
   "execution_count": 13,
   "metadata": {},
   "outputs": [
    {
     "data": {
      "image/png": "[encoded data removed]",
      "text/plain": [
       "<Figure size 432x288 with 1 Axes>"
      ]
     },
     "metadata": {
      "needs_background": "light"
     },
     "output_type": "display_data"
    }
   ],
   "source": [
    "# Create the DMatrix: housing_dmatrix\n",
    "housing_dmatrix=xgb.DMatrix(X,y)\n",
    "\n",
    "# Create the parameter dictionary: params\n",
    "params={\"objective\":\"reg:squarederror\", \"max_depth\":4}\n",
    "\n",
    "# Train the model: xg_reg\n",
    "xg_reg=xgb.train(params=params, dtrain=housing_dmatrix, num_boost_round=330)\n",
    "\n",
    "# Plot the feature importances\n",
    "xgb.plot_importance(xg_reg)\n",
    "plt.show()"
   ]
  },
  {
   "cell_type": "markdown",
   "metadata": {},
   "source": [
    "### Fit a Linear Regression Model"
   ]
  },
  {
   "cell_type": "code",
   "execution_count": 14,
   "metadata": {},
   "outputs": [
    {
     "name": "stdout",
     "output_type": "stream",
     "text": [
      "Coefficient of determination(R-squared): 0.7878482699854533\n",
      "Intercept: -15.79040705799526\n",
      "                Coeff\n",
      "FA           0.258229\n",
      "Weight      -0.041489\n",
      "Head Height  0.814878\n",
      "Head Length  0.041961\n",
      "Head Width   0.031598\n"
     ]
    }
   ],
   "source": [
    "# Instantiate model\n",
    "model = LinearRegression()\n",
    "\n",
    "#Fit model\n",
    "model.fit(X_train, y_train)\n",
    "#Print model score\n",
    "r_sq = model.score(X, y)\n",
    "print('Coefficient of determination(R-squared):', r_sq)\n",
    "\n",
    "#Print model attributes- intercept and coefficients\n",
    "print('Intercept:', model.intercept_)\n",
    "print(pd.DataFrame(model.coef_, X.columns, columns = ['Coeff']))"
   ]
  },
  {
   "cell_type": "code",
   "execution_count": 15,
   "metadata": {},
   "outputs": [
    {
     "data": {
      "image/png": "[encoded data removed]",
      "text/plain": [
       "<Figure size 432x288 with 1 Axes>"
      ]
     },
     "metadata": {
      "needs_background": "light"
     },
     "output_type": "display_data"
    }
   ],
   "source": [
    "# Predict the targets of the test set\n",
    "predictions = model.predict(X_test)\n",
    "\n",
    "#Plot known vs predictions\n",
    "plt.title('Real vs Predicted')\n",
    "plt.scatter(y_test, predictions);\n"
   ]
  },
  {
   "cell_type": "markdown",
   "metadata": {},
   "source": [
    "### Metrics of Performance of Regression Model"
   ]
  },
  {
   "cell_type": "code",
   "execution_count": 16,
   "metadata": {},
   "outputs": [
    {
     "name": "stdout",
     "output_type": "stream",
     "text": [
      "MAE=  2.467772619042409 \n",
      " MSE=  10.25957546361885 \n",
      " RMSE=  3.2030572057986806\n"
     ]
    }
   ],
   "source": [
    "#Metrics for performance of regression model\n",
    "#MAE\n",
    "MAE = metrics.mean_absolute_error(y_test, predictions)\n",
    "#MSE\n",
    "MSE = metrics.mean_squared_error(y_test, predictions)\n",
    "#RMSE\n",
    "RMSE = np.sqrt(metrics.mean_squared_error(y_test, predictions))\n",
    "print(\"MAE= \",MAE, '\\n',\"MSE= \",MSE, '\\n',\"RMSE= \",RMSE)"
   ]
  },
  {
   "cell_type": "markdown",
   "metadata": {},
   "source": [
    "### Summary Results:\n",
    "A boosted tree regression model had the lowest RMSE at 2.048 compared to a linear regression with a RMSE of 3.203. The length of arm was the most important feature in predicting bite force of the bats in this data set, with weight coming in second. As all the features were correlated with each other, no one variable could or should be dropped. \n",
    "Body measurements make for ideal estimates of the measurement of bite force in bats, given this data."
   ]
  },
  {
   "cell_type": "code",
   "execution_count": null,
   "metadata": {},
   "outputs": [],
   "source": []
  }
 ],
 "metadata": {
  "kernelspec": {
   "display_name": "Python 3",
   "language": "python",
   "name": "python3"
  },
  "language_info": {
   "codemirror_mode": {
    "name": "ipython",
    "version": 3
   },
   "file_extension": ".py",
   "mimetype": "text/x-python",
   "name": "python",
   "nbconvert_exporter": "python",
   "pygments_lexer": "ipython3",
   "version": "3.8.3"
  }
 },
 "nbformat": 4,
 "nbformat_minor": 4
}
